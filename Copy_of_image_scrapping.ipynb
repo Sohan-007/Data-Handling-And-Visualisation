{
  "nbformat": 4,
  "nbformat_minor": 0,
  "metadata": {
    "colab": {
      "provenance": [],
      "authorship_tag": "ABX9TyPjXa/pIbvMDUunEn+m7V8A",
      "include_colab_link": true
    },
    "kernelspec": {
      "name": "python3",
      "display_name": "Python 3"
    },
    "language_info": {
      "name": "python"
    }
  },
  "cells": [
    {
      "cell_type": "markdown",
      "metadata": {
        "id": "view-in-github",
        "colab_type": "text"
      },
      "source": [
        "<a href=\"https://colab.research.google.com/github/Sohan-007/Data-Handling-And-Visualisation/blob/main/Copy_of_image_scrapping.ipynb\" target=\"_parent\"><img src=\"https://colab.research.google.com/assets/colab-badge.svg\" alt=\"Open In Colab\"/></a>"
      ]
    },
    {
      "cell_type": "code",
      "execution_count": null,
      "metadata": {
        "colab": {
          "base_uri": "https://localhost:8080/"
        },
        "id": "aMAE20waKfU7",
        "outputId": "9702505f-3136-4710-e165-bfa068707d0e"
      },
      "outputs": [
        {
          "output_type": "stream",
          "name": "stdout",
          "text": [
            "https://www.iplt20.com/assets/images/BCCI_logo.png\n",
            "https://www.iplt20.com/assets/images/womens-premier-league-logo.svg\n",
            "https://www.iplt20.com/assets/images/thread-icon.svg\n",
            "https://www.iplt20.com/assets/images/new-twitter-icon.svg\n",
            "https://www.iplt20.com/assets/images/new-instagram-icon.svg\n",
            "https://www.iplt20.com/assets/images/new-facebook-icon.svg\n",
            "https://www.iplt20.com/assets/images/ipl-logo-new-old.png\n",
            "https://www.iplt20.com/assets/images/new-search-icon.svg\n",
            "https://www.iplt20.com/assets/images/fan-poll.svg\n",
            "https://www.iplt20.com/assets/images/new-search-icon.svg\n",
            "https://bcciplayerimages.s3.ap-south-1.amazonaws.com/ipl/CSK/logos/Logooutline/CSKoutline.png\n",
            "https://bcciplayerimages.s3.ap-south-1.amazonaws.com/ipl/DC/Logos/LogoOutline/DCoutline.png\n",
            "https://bcciplayerimages.s3.ap-south-1.amazonaws.com/ipl/GT/Logos/Logooutline/GToutline.png\n",
            "https://bcciplayerimages.s3.ap-south-1.amazonaws.com/ipl/KKR/Logos/Logooutline/KKRoutline.png\n",
            "https://bcciplayerimages.s3.ap-south-1.amazonaws.com/ipl/LSG/Logos/Logooutline/LSGoutline.png\n",
            "https://bcciplayerimages.s3.ap-south-1.amazonaws.com/ipl/MI/Logos/Logooutline/MIoutline.png\n",
            "https://bcciplayerimages.s3.ap-south-1.amazonaws.com/ipl/PBKS/Logos/Logooutline/PBKSoutline.png\n",
            "https://bcciplayerimages.s3.ap-south-1.amazonaws.com/ipl/RR/Logos/Logooutline/RRoutline.png\n",
            "https://bcciplayerimages.s3.ap-south-1.amazonaws.com/ipl/RCB/Logos/Logooutline/RCBoutline.png\n",
            "https://bcciplayerimages.s3.ap-south-1.amazonaws.com/ipl/SRH/Logos/Logooutline/SRHoutline.png\n",
            "https://bcciplayerimages.s3.ap-south-1.amazonaws.com/ipl/RCB/Logos/Logooutline/RCBoutline.png\n",
            "https://www.iplt20.com/assets/images/off-link.svg\n",
            "https://www.iplt20.com/assets/images/teams-captain-icon.svg\n",
            "https://www.iplt20.com/assets/images/teams-foreign-player-icon.svg\n",
            "https://www.iplt20.com/assets/images/teams-batsman-icon.svg\n",
            "https://bcciplayerimages.s3.ap-south-1.amazonaws.com/ipl/IPLHeadshot2023/94.png\n",
            "https://www.iplt20.com/assets/images/teams-batsman-icon.svg\n",
            "https://www.iplt20.com/assets/images/default-headshot.png\n",
            "https://www.iplt20.com/assets/images/teams-batsman-icon.svg\n",
            "https://bcciplayerimages.s3.ap-south-1.amazonaws.com/ipl/IPLHeadshot2023/2.png\n",
            "https://www.iplt20.com/assets/images/teams-batsman-icon.svg\n",
            "https://bcciplayerimages.s3.ap-south-1.amazonaws.com/ipl/IPLHeadshot2023/534.png\n",
            "https://www.iplt20.com/assets/images/teams-wicket-keeper-icon.svg\n",
            "https://bcciplayerimages.s3.ap-south-1.amazonaws.com/ipl/IPLHeadshot2023/13.png\n",
            "https://www.iplt20.com/assets/images/teams-batsman-icon.svg\n",
            "https://bcciplayerimages.s3.ap-south-1.amazonaws.com/ipl/IPLHeadshot2023/598.png\n",
            "https://www.iplt20.com/assets/images/teams-foreign-player-icon.svg\n",
            "https://www.iplt20.com/assets/images/teams-batsman-icon.svg\n",
            "https://www.iplt20.com/assets/images/default-headshot.png\n",
            "https://www.iplt20.com/assets/images/teams-batsman-icon.svg\n",
            "https://www.iplt20.com/assets/images/default-headshot.png\n",
            "https://www.iplt20.com/assets/images/teams-foreign-player-icon.svg\n",
            "https://www.iplt20.com/assets/images/teams-all-rounder-icon.svg\n",
            "https://bcciplayerimages.s3.ap-south-1.amazonaws.com/ipl/IPLHeadshot2023/28.png\n",
            "https://www.iplt20.com/assets/images/teams-all-rounder-icon.svg\n",
            "https://bcciplayerimages.s3.ap-south-1.amazonaws.com/ipl/IPLHeadshot2023/184.png\n",
            "https://www.iplt20.com/assets/images/teams-all-rounder-icon.svg\n",
            "https://bcciplayerimages.s3.ap-south-1.amazonaws.com/ipl/IPLHeadshot2023/98.png\n",
            "https://www.iplt20.com/assets/images/teams-foreign-player-icon.svg\n",
            "https://www.iplt20.com/assets/images/teams-all-rounder-icon.svg\n",
            "https://www.iplt20.com/assets/images/default-headshot.png\n",
            "https://www.iplt20.com/assets/images/teams-all-rounder-icon.svg\n",
            "https://www.iplt20.com/assets/images/default-headshot.png\n",
            "https://www.iplt20.com/assets/images/teams-all-rounder-icon.svg\n",
            "https://www.iplt20.com/assets/images/default-headshot.png\n",
            "https://www.iplt20.com/assets/images/teams-all-rounder-icon.svg\n",
            "https://bcciplayerimages.s3.ap-south-1.amazonaws.com/ipl/IPLHeadshot2023/1485.png\n",
            "https://www.iplt20.com/assets/images/teams-bowler-icon.svg\n",
            "https://bcciplayerimages.s3.ap-south-1.amazonaws.com/ipl/IPLHeadshot2023/1007.png\n",
            "https://www.iplt20.com/assets/images/teams-foreign-player-icon.svg\n",
            "https://www.iplt20.com/assets/images/teams-bowler-icon.svg\n",
            "https://www.iplt20.com/assets/images/default-headshot.png\n",
            "https://www.iplt20.com/assets/images/teams-foreign-player-icon.svg\n",
            "https://www.iplt20.com/assets/images/teams-bowler-icon.svg\n",
            "https://www.iplt20.com/assets/images/default-headshot.png\n",
            "https://www.iplt20.com/assets/images/teams-bowler-icon.svg\n",
            "https://bcciplayerimages.s3.ap-south-1.amazonaws.com/ipl/IPLHeadshot2023/63.png\n",
            "https://www.iplt20.com/assets/images/teams-bowler-icon.svg\n",
            "https://www.iplt20.com/assets/images/default-headshot.png\n",
            "https://www.iplt20.com/assets/images/teams-foreign-player-icon.svg\n",
            "https://www.iplt20.com/assets/images/teams-bowler-icon.svg\n",
            "https://www.iplt20.com/assets/images/default-headshot.png\n",
            "https://www.iplt20.com/assets/images/teams-foreign-player-icon.svg\n",
            "https://www.iplt20.com/assets/images/teams-bowler-icon.svg\n",
            "https://bcciplayerimages.s3.ap-south-1.amazonaws.com/ipl/IPLHeadshot2023/574.png\n",
            "https://www.iplt20.com/assets/images/teams-bowler-icon.svg\n",
            "https://bcciplayerimages.s3.ap-south-1.amazonaws.com/ipl/IPLHeadshot2023/1568.png\n",
            "https://www.iplt20.com/assets/images/teams-bowler-icon.svg\n",
            "https://www.iplt20.com/assets/images/default-headshot.png\n",
            "https://www.iplt20.com/assets/images/teams-bowler-icon.svg\n",
            "https://bcciplayerimages.s3.ap-south-1.amazonaws.com/ipl/IPLHeadshot2023/1503.png\n",
            "https://bcciplayerimages.s3.ap-south-1.amazonaws.com/bcci/live_blog/1644520414_tata-logo.png\n",
            "https://bcciplayerimages.s3.ap-south-1.amazonaws.com/bcci/live_blog/1680104749_StarSports_Logo-Tagline%203.png\n",
            "https://bcciplayerimages.s3.ap-south-1.amazonaws.com/bcci/live_blog/1671017722_Jio%20CinemaAsset%202%201.png\n",
            "https://bcciplayerimages.s3.ap-south-1.amazonaws.com/bcci/live_blog/1646835698_dream11.png\n",
            "https://bcciplayerimages.s3.ap-south-1.amazonaws.com/bcci/live_blog/1678119494_Cred.png\n",
            "https://bcciplayerimages.s3.ap-south-1.amazonaws.com/bcci/live_blog/1678119570_Upstox.png\n",
            "https://bcciplayerimages.s3.ap-south-1.amazonaws.com/bcci/live_blog/1679731178_Rupay.png\n",
            "https://bcciplayerimages.s3.ap-south-1.amazonaws.com/bcci/live_blog/1679731219_saudi-new-logo.png\n",
            "https://bcciplayerimages.s3.ap-south-1.amazonaws.com/bcci/live_blog/1680102806_herballife.png\n",
            "https://bcciplayerimages.s3.ap-south-1.amazonaws.com/bcci/logo/1647964934_aramco.png\n",
            "https://bcciplayerimages.s3.ap-south-1.amazonaws.com/bcci/live_blog/1633588474_sponsor-paytm.webp\n",
            "https://bcciplayerimages.s3.ap-south-1.amazonaws.com/bcci/live_blog/1633588547_sponsor-ceat.webp\n",
            "https://bcciplayerimages.s3.ap-south-1.amazonaws.com/bcci/live_blog/1680104749_StarSports_Logo-Tagline%203.png\n",
            "https://bcciplayerimages.s3.ap-south-1.amazonaws.com/bcci/live_blog/1671017722_Jio%20CinemaAsset%202%201.png\n",
            "https://bcciplayerimages.s3.ap-south-1.amazonaws.com/bcci/live_blog/1633588474_sponsor-paytm.webp\n",
            "https://bcciplayerimages.s3.ap-south-1.amazonaws.com/bcci/logo/1647964934_aramco.png\n",
            "https://bcciplayerimages.s3.ap-south-1.amazonaws.com/bcci/live_blog/1633588547_sponsor-ceat.webp\n"
          ]
        }
      ],
      "source": [
        "import requests\n",
        "from bs4 import BeautifulSoup\n",
        "\n",
        "def getdata(url):\n",
        "    r = requests.get(url)\n",
        "    return r.text\n",
        "\n",
        "htmldata = getdata(\"https://www.iplt20.com/teams/royal-challengers-bangalore\")\n",
        "soup = BeautifulSoup(htmldata, 'html.parser')\n",
        "for item in soup.find_all('img'):\n",
        "    print(item['src'])"
      ]
    }
  ]
}